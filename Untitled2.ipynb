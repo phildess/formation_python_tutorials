{
  "nbformat": 4,
  "nbformat_minor": 0,
  "metadata": {
    "colab": {
      "provenance": [],
      "mount_file_id": "1angqVvqjMJ8vjA-eU7hSI8QARPaoHyJ0",
      "authorship_tag": "ABX9TyMMn6U7SlOtmyuUeQSd4kzW"
    },
    "kernelspec": {
      "name": "python3",
      "display_name": "Python 3"
    },
    "language_info": {
      "name": "python"
    }
  },
  "cells": [
    {
      "cell_type": "code",
      "execution_count": 1,
      "metadata": {
        "colab": {
          "base_uri": "https://localhost:8080/"
        },
        "id": "uJOGFnLtoZrV",
        "outputId": "35b5d31d-fe24-49ef-be63-44da8a5af7e5"
      },
      "outputs": [
        {
          "output_type": "stream",
          "name": "stdout",
          "text": [
            "Hello world !!!\n"
          ]
        }
      ],
      "source": [
        "print(\"Hello world !!!\")"
      ]
    }
  ]
}